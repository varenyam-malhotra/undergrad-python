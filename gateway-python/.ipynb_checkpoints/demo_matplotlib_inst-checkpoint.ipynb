{
 "cells": [
  {
   "cell_type": "code",
   "execution_count": null,
   "id": "14b47d2d",
   "metadata": {},
   "outputs": [],
   "source": [
    "%matplotlib inline\n",
    "import numpy as np\n",
    "import matplotlib.pyplot as plt"
   ]
  },
  {
   "cell_type": "markdown",
   "id": "a981fceb",
   "metadata": {},
   "source": [
    "### Ploting\n",
    "\n",
    "**Exercise 1** \n",
    "\n",
    "(a) Read **trees.csv** into a numpy array.  Make a scatter plot with the circumference on the x-axis and the height on the y-axis and add an appropriate axis labels.  You can load a CSV into a numpy array using `data = np.loadtxt(filename, delimiter=\",\", skiprows=N)` where `filename` is a string and `N` is an integer indicating number of header rows to skip.\n",
    "\n",
    "(b) Calculate a linear regression model for circumference versus height and display it as a line on the plot. Use `(m,b) = np.polyfit(x, y, 1)` to find a slope `m` and y-intercept `b`. "
   ]
  },
  {
   "cell_type": "code",
   "execution_count": null,
   "id": "353dcb82",
   "metadata": {},
   "outputs": [],
   "source": []
  },
  {
   "cell_type": "markdown",
   "id": "a5f80deb",
   "metadata": {},
   "source": [
    "### Subplots\n",
    "Plotting functions side by side. $f(x) = cos(x)$ and $g(x) = sin(x)$\n"
   ]
  },
  {
   "cell_type": "code",
   "execution_count": null,
   "id": "bda5af39",
   "metadata": {},
   "outputs": [],
   "source": [
    "plt.subplot(1,2,1) # Create a 1x2 subplot and specify contents of first plot\n",
    "x = np.linspace(0,2*np.pi, 1000)\n",
    "plt.plot(x, np.sin(x))\n",
    "plt.title(\"sin(x)\")\n",
    "\n",
    "plt.subplot(1,2,2) # Create a 1x2 subplot and specify contents of 2nd plot\n",
    "x = np.linspace(0,2*np.pi, 1000)\n",
    "plt.plot(x, np.cos(x))\n",
    "plt.title(\"cos(x)\")"
   ]
  },
  {
   "cell_type": "markdown",
   "id": "d5639bbf",
   "metadata": {},
   "source": [
    "**Exercise 2** \n",
    "\n",
    "Create a 2 x 2 subplot with the following 4 functions $x$, $x^2$, $x^3$, $x^4$ plotted on domain [0,10]"
   ]
  },
  {
   "cell_type": "code",
   "execution_count": null,
   "id": "a5e706d1",
   "metadata": {},
   "outputs": [],
   "source": []
  },
  {
   "cell_type": "markdown",
   "id": "2f635390",
   "metadata": {},
   "source": [
    "### 3D plotting\n",
    "\n",
    "Make a 3D plot of the function\n",
    "\n",
    "$$f(x,y) = sin(\\sqrt{x^2 + y^2})$$"
   ]
  },
  {
   "cell_type": "code",
   "execution_count": null,
   "id": "28fdba62",
   "metadata": {},
   "outputs": [],
   "source": [
    "\n",
    "# Compute f(x,y)\n",
    "def f_val(a, b):\n",
    "    return np.sin(np.sqrt(a ** 2 + b ** 2))\n",
    "\n",
    "# Set of points along x - axis\n",
    "x_1D = np.linspace(-6, 6, 100)\n",
    "# Set of points along y - axis\n",
    "y_1D = np.linspace(-6, 6, 100)\n",
    "\n",
    "# Create 2D grid\n",
    "x_2D_grid, y_2D_grid = np.meshgrid(x_1D, y_1D)\n",
    "\n",
    "# Compute value of f(x,y) in the grid\n",
    "z_2D_grid            = f_val(x_2D_grid, y_2D_grid)    "
   ]
  },
  {
   "cell_type": "code",
   "execution_count": null,
   "id": "98c8a927",
   "metadata": {},
   "outputs": [],
   "source": [
    "fig, ax = plt.subplots(subplot_kw = {'projection':'3d'})\n",
    "ax.plot_surface(x_2D_grid, y_2D_grid, z_2D_grid)\n",
    "\n",
    "plt.style.use('fivethirtyeight')\n",
    "\n",
    "ax.set_xlabel('x')\n",
    "ax.set_ylabel('y')\n",
    "ax.set_zlabel('z')"
   ]
  },
  {
   "cell_type": "markdown",
   "id": "48eb8451",
   "metadata": {},
   "source": [
    "**Exercise 3** \n",
    "\n",
    "On domain $x \\in [-1,1]$ and $y \\in [-1,1]$ make a 3D plot of a ripple function $$f(x,y) = \\sin(5x)\\cos(5y)$$ "
   ]
  },
  {
   "cell_type": "code",
   "execution_count": null,
   "id": "9a05eb3e",
   "metadata": {},
   "outputs": [],
   "source": []
  },
  {
   "cell_type": "markdown",
   "id": "8e39fc1a",
   "metadata": {},
   "source": [
    "### Demo: Contour plot of the same equation"
   ]
  },
  {
   "cell_type": "code",
   "execution_count": null,
   "id": "4c99ff24",
   "metadata": {},
   "outputs": [],
   "source": [
    "# Create new figure\n",
    "fig, ax = plt.subplots(tight_layout=True)\n",
    "\n",
    "plt.style.use('fivethirtyeight')\n",
    "\n",
    "# Switch off grid\n",
    "ax.grid(False)\n",
    "\n",
    "contours = ax.contour(x_2D_grid, y_2D_grid, z_2D_grid, levels = np.linspace(-1,1,15), cmap='RdBu')\n",
    "\n",
    "fig.colorbar(contours)\n",
    "\n",
    "ax.set_aspect('equal')"
   ]
  },
  {
   "cell_type": "code",
   "execution_count": null,
   "id": "73f9a404",
   "metadata": {},
   "outputs": [],
   "source": [
    "# Create new figure\n",
    "fig, ax = plt.subplots(tight_layout=True)\n",
    "\n",
    "plt.style.use('fivethirtyeight')\n",
    "\n",
    "# Switch off grid\n",
    "ax.grid(False)\n",
    "\n",
    "img = ax.imshow(z_2D_grid, extent = [-6, 6, -6, 6], origin='lower', cmap='RdBu')\n",
    "\n",
    "fig.colorbar(img)\n",
    "\n",
    "ax.set_aspect('equal')"
   ]
  },
  {
   "cell_type": "markdown",
   "id": "50826149",
   "metadata": {},
   "source": [
    "### Using widgets\n",
    "\n",
    "Plot the two parameter equation\n",
    "\n",
    "$$f(x) = mcosh(x) + bx^3$$\n"
   ]
  },
  {
   "cell_type": "code",
   "execution_count": null,
   "id": "c70c7201",
   "metadata": {},
   "outputs": [],
   "source": [
    "try:\n",
    "    import ipywidgets\n",
    "except:\n",
    "    !conda install -y -c anaconda ipywidgets # Install ipywidgets if unavailable \n",
    "\n",
    "from ipywidgets import interact_manual\n",
    "import ipywidgets as widgets\n",
    "\n",
    "import matplotlib.pyplot as plt\n",
    "import numpy as np\n",
    "\n",
    "def get_eqn(m, b, n = 1000):\n",
    "       \n",
    "    x = np.linspace(-1,1,1000)\n",
    "    return x, m*np.cosh(x) + b*x**3\n",
    "\n",
    "\n",
    "def plot_func(m, b):\n",
    "    \n",
    "    fig, ax = plt.subplots()\n",
    "    ax.grid(False)\n",
    "    x, y = get_eqn(m, b)\n",
    "    ax.plot(x, y)\n",
    "    ax.set_xlabel('x')\n",
    "    ax.set_ylabel('f(x)')\n",
    "\n",
    "m_val = widgets.FloatSlider(value=1, min=-5, max=5, step = 0.001)    \n",
    "b_val = widgets.FloatSlider(value=1, min=-5, max=5, step = 0.001)   \n",
    "interact_manual(plot_func, m = m_val, b = b_val)"
   ]
  },
  {
   "cell_type": "code",
   "execution_count": null,
   "id": "b99f4639",
   "metadata": {},
   "outputs": [],
   "source": []
  }
 ],
 "metadata": {
  "kernelspec": {
   "display_name": "Python 3 (ipykernel)",
   "language": "python",
   "name": "python3"
  },
  "language_info": {
   "codemirror_mode": {
    "name": "ipython",
    "version": 3
   },
   "file_extension": ".py",
   "mimetype": "text/x-python",
   "name": "python",
   "nbconvert_exporter": "python",
   "pygments_lexer": "ipython3",
   "version": "3.7.11"
  }
 },
 "nbformat": 4,
 "nbformat_minor": 5
}
