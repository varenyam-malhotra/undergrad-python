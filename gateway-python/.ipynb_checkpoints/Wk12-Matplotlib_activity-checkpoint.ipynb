{
 "cells": [
  {
   "cell_type": "markdown",
   "id": "fca05ed8-0884-4ede-915d-c628e93b41d4",
   "metadata": {},
   "source": [
    "## 1. Reading the Data\n",
    "\n",
    "`co2_mm_mlo.txt` text file contains information about the montly average of $CO_2$ expressed as the number of molecules in every one million molecules of dried air (water vapor removed). Data have been obtained from March 1958 through April 1974. Read and process this file to generate a two dimensional numpy array with two rows. The first row contains the decimal date (third column in the text file, after removing the introductory text - header), and the second row contains the average $CO_2$ levels (fifth column in the text file, after removing the introductory text - header). Note that the header information in the text file starts with `#`."
   ]
  },
  {
   "cell_type": "code",
   "execution_count": 6,
   "id": "5fcdc23c-e1a8-4ded-b438-a194b29a9e9b",
   "metadata": {},
   "outputs": [],
   "source": [
    "import numpy as np\n",
    "# Write your code here\n"
   ]
  },
  {
   "cell_type": "markdown",
   "id": "a0eda072-94d4-48ac-a721-3eacfed4e82f",
   "metadata": {},
   "source": [
    "## 2. Plotting data\n",
    "\n",
    "Plot the data using matplotlib packaage. Use a red solid line for the plot. Label the $x$ and $y$ axes as `Year` and `Atmospheric CO2 (ppm)`. Set the $x$ axis limit to 1956-2016 range and $y$ axis to 300-410 range. Add a title: `Average CO2 per year`"
   ]
  },
  {
   "cell_type": "code",
   "execution_count": 7,
   "id": "00e482a8-0490-4c0b-9050-2b1d23fb3d4e",
   "metadata": {},
   "outputs": [],
   "source": [
    "# Write your code here"
   ]
  },
  {
   "cell_type": "markdown",
   "id": "2297f43b-bdac-474e-a92c-7c77906d58ee",
   "metadata": {},
   "source": [
    "## 3. Generate an animation\n",
    "\n",
    "To generate an animation using matplotlib, you need to import **FuncAnimation** function from the matplotlib animation package (use from `matplotlib.animation import FuncAnimation`). You should also add the following lines at the begining of yoour code to be able run the animation in Jupyter Notebook as inline figure:\n",
    "\n",
    "```python\n",
    "%matplotlib inline\n",
    "plt.rc('animation', html='jshtml')\n",
    "```\n",
    "\n",
    "\n",
    "Use the following steps:\n",
    "\n",
    "1) Generate an empty figure (Hint: use plt.figure)\n",
    "\n",
    "2) Generate a line plot object and assign it to the the output of plt.plot(). You can use empty brackets for $x$ and $y$ values and red solid line for plot display:\n",
    "\n",
    "```\n",
    "line, = plt.plot([], [], 'r-')\n",
    "```\n",
    "\n",
    "\n",
    "\n",
    "3) Generate a function called `update_line(num,data, line)`, where `num` is an index integer, `data` is the numpy 2D array containing $CO_2$ average measurements, and line is `matplotlib.lines.Line2D` object generated from the previous step. In this function you will set the $x$ and $y$ values for the `line` object using line.set_data(x,y). Here x and y are the values in data from the initial element up to index `num`. Your function should return this updated `line` object with the new $x$ and $y$ values.\n",
    "\n",
    "\n",
    "4) implement line_ani = FuncAnimation(fig, func, frames=None, fargs=None, interval=200) \n",
    "\n",
    "and replace the input arguments as follows:\n",
    "\n",
    "- fig: figure object that you generatd in step 1\n",
    "- fuc: the name of the function that you generated in step 3. This function will continuesly uopdate figure for the animation\n",
    "- frames (optional): the value of the frames. Here it should be the number of measurements (columns) in data array. This is the number of times that animataion will be updated.\n",
    "- fargs (optional): For this application it will be used for the last two input argements to the `update_line(num,data, line)` function, data and line, passed as a tuples. Note that you don't need to pass an input argument for `num` since matplotlib automatically uses the value for the frame for the first argument.\n",
    "- interval: an optional int argument , default: 200 representing Delay between frames in milliseconds, for this application change it to 20\n",
    "\n",
    "5) Call line_ani. This will take some time before generating a plot window with control tabs underneath that can be used to run the animation.\n",
    "\n",
    "\n"
   ]
  },
  {
   "cell_type": "code",
   "execution_count": 8,
   "id": "69be62f0-662f-4c14-9721-2ba552968e01",
   "metadata": {},
   "outputs": [],
   "source": [
    "# Write your code here"
   ]
  }
 ],
 "metadata": {
  "kernelspec": {
   "display_name": "Python 3 (ipykernel)",
   "language": "python",
   "name": "python3"
  },
  "language_info": {
   "codemirror_mode": {
    "name": "ipython",
    "version": 3
   },
   "file_extension": ".py",
   "mimetype": "text/x-python",
   "name": "python",
   "nbconvert_exporter": "python",
   "pygments_lexer": "ipython3",
   "version": "3.10.6"
  }
 },
 "nbformat": 4,
 "nbformat_minor": 5
}
