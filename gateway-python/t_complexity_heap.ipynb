{
 "cells": [
  {
   "cell_type": "markdown",
   "id": "eb315505",
   "metadata": {},
   "source": [
    "# Time Complexity on Binary Max Heap data structure"
   ]
  },
  {
   "cell_type": "code",
   "execution_count": null,
   "id": "c2f93543",
   "metadata": {},
   "outputs": [],
   "source": [
    "from binary_heap import BinaryHeap, Node, heapsort_I\n",
    "\n",
    "import numpy as np\n",
    "import matplotlib.pyplot as plt\n",
    "import seaborn as sns\n",
    "\n",
    "# Delete this line if you have any issues with latex\n",
    "#plt.rcParams.update({\"text.usetex\": True,\"font.family\": \"serif\",\"font.serif\": [\"Palatino\"]})\n",
    "\n",
    "# seaborn settings for plots\n",
    "sns.set_style(\"white\", {'xtick.direction': u'in','ytick.direction': u'in'})\n",
    "sns.set_context(\"poster\")"
   ]
  },
  {
   "cell_type": "code",
   "execution_count": null,
   "id": "d835494d",
   "metadata": {},
   "outputs": [],
   "source": [
    "b = BinaryHeap([2,4,0,8,7,1])\n",
    "b.max_heapify()\n",
    "l = [l.key for l in b.nodes]\n",
    "print(l)"
   ]
  },
  {
   "cell_type": "code",
   "execution_count": null,
   "id": "f27f530c",
   "metadata": {},
   "outputs": [],
   "source": [
    "# This function generates a list of random key values and data which will be used to create Node objects\n",
    "\n",
    "def get_nodes (n):\n",
    "    \n",
    "    a     = np.arange(10000000)\n",
    "    k     = a[0:n]\n",
    "    \n",
    "    # Keys are random numbers\n",
    "    np.random.shuffle(k)\n",
    "    \n",
    "    # In this examples data for each node is an integer    \n",
    "    x     = np.arange(n, dtype=np.int32)\n",
    "\n",
    "    return k, x"
   ]
  },
  {
   "cell_type": "code",
   "execution_count": null,
   "id": "1a465cec",
   "metadata": {},
   "outputs": [],
   "source": [
    "# Function to make plots of measured  T(n) vs O(n)\n",
    "\n",
    "def make_plots(n_list, t_b, ylims=None, opt = 3):\n",
    "    \n",
    "    # Create a figure object\n",
    "    fig, ax = plt.subplots(1,2, figsize = (10,5), tight_layout=True)\n",
    "\n",
    "    # Plot data in both plots\n",
    "    ax[0].plot(n_list, t_b, 'o-',    linestyle='--', markersize=10)\n",
    "    ax[1].plot(n_list, t_b, 'o-',    linestyle='--', label=r'$T(n)$', markersize=10)\n",
    "\n",
    "    # Set labels\n",
    "    ax[0].set_xlabel('N', fontsize = 20)\n",
    "    ax[0].set_ylabel('time(s)', fontsize = 20)\n",
    "    ax[1].set_xlabel('N', fontsize = 20)\n",
    "    ax[1].set_ylabel('time(s)', fontsize = 20)\n",
    "\n",
    "    # Update x and y scale of second plot to log base 2 \n",
    "    ax[1].set_yscale('log', base=2)\n",
    "    ax[1].set_xscale('log', base=2)\n",
    "\n",
    "    # Increase fontsize of ticks\n",
    "    ax[0].tick_params(axis='x', labelsize=16)\n",
    "    ax[1].tick_params(axis='x', labelsize=16)\n",
    "    ax[0].tick_params(axis='y', labelsize=16)\n",
    "    ax[1].tick_params(axis='y', labelsize=16)\n",
    "\n",
    "    if opt==3:\n",
    "        n_a = np.array(n_list)\n",
    "        c   = t_b[0]/(n_list[0]*np.log(n_list[0]))\n",
    "        t1  = c * n_a * np.log(n_a) \n",
    "        ax[0].plot(n_a, t1, 'o-', label=r'$cnlog(n)$', linestyle='--', markersize=10)\n",
    "        ax[1].plot(n_a, t1, 'o-', label=r'$cnlog(n)$', linestyle='--', markersize=10)\n",
    "    elif opt==2:\n",
    "        n_a = np.array(n_list)\n",
    "        c   = t_b[0]/(n_list[0]*n_list[0])\n",
    "        t1  = c * n_a * n_a \n",
    "        ax[0].plot(n_a, t1, 'o-', label=r'$c n^2$', linestyle='--', markersize=10)\n",
    "        ax[1].plot(n_a, t1, 'o-', label=r'$c n^2$', linestyle='--', markersize=10)\n",
    "    elif opt==1:\n",
    "        n_a = np.array(n_list)\n",
    "        c   = t_b[0]/(n_list[0])\n",
    "        t1  = c * n_a\n",
    "        ax[0].plot(n_a, t1, 'o-', label=r'$c n$', linestyle='--', markersize=10)\n",
    "        ax[1].plot(n_a, t1, 'o-', label=r'$c n$', linestyle='--', markersize=10)  \n",
    "    elif opt==4:\n",
    "        n_a = np.array(n_list)\n",
    "        c   = t_b[0]/(2^n_list[0])\n",
    "        t1  = [1.68**i for i in n_a]\n",
    "        \n",
    "        ax[0].plot(n_a, t1, 'o-', label=r'$c^n$', linestyle='--', markersize=10)\n",
    "        ax[1].plot(n_a, t1, 'o-', label=r'$c^n$', linestyle='--', markersize=10)   \n",
    "    \n",
    "    elif opt==5:\n",
    "        n_a = np.array(n_list)\n",
    "        c   = t_b[0]/(np.log(n_list[0]))\n",
    "        t1  = c * np.log(n_a)\n",
    "        \n",
    "        ax[0].plot(n_a, t1, 'o-', label=r'$clog(n)$', linestyle='--', markersize=10)\n",
    "        ax[1].plot(n_a, t1, 'o-', label=r'$clog(n)$', linestyle='--', markersize=10)    \n",
    "    \n",
    "    elif opt==7:\n",
    "        \n",
    "        n_a = np.array(n_list)\n",
    "        c   = t_b[0]/(n_list[0]*np.log(n_list[0]))\n",
    "        t1  = c * n_a * np.log(n_a) \n",
    "        ax[1].plot(n_a, t1, 'o-', label=r'$cnlog(n)$', linestyle='--', markersize=10)\n",
    "\n",
    "        n_a = np.array(n_list)\n",
    "        c   = t_b[0]/(n_list[0])\n",
    "        t1  = c * n_a\n",
    "        ax[1].plot(n_a, t1, 'o-', label=r'$c n$', linestyle='--', markersize=10)  \n",
    "        \n",
    "        n_a = np.array(n_list)\n",
    "        c   = t_b[0]/(n_list[0]*n_list[0])\n",
    "        t1  = c * n_a * n_a \n",
    "        ax[1].plot(n_a, t1, 'o-', label=r'$c n^2$', linestyle='--', markersize=10)\n",
    "    \n",
    "    if ylims:\n",
    "        ax[0].set_ylim(ylims)\n",
    "        ax[1].set_ylim(ylims)\n",
    "    \n",
    "    ax[1].legend(fontsize=20)\n"
   ]
  },
  {
   "cell_type": "markdown",
   "id": "5fc12d7a",
   "metadata": {},
   "source": [
    "## Tree creation via insertion"
   ]
  },
  {
   "cell_type": "code",
   "execution_count": null,
   "id": "7a95cce9",
   "metadata": {
    "scrolled": true
   },
   "outputs": [],
   "source": [
    "n_list = np.array([2**n for n in range(4,20,2)])\n",
    "\n",
    "t_list_1 = []\n",
    "\n",
    "for n in n_list:\n",
    "    \n",
    "    k, d = get_nodes(n)\n",
    "    t_m = %timeit -o -r 3 BinaryHeap(keys = k, data = d)\n",
    "    time_m = t_m.best\n",
    "    t_list_1.append(time_m)\n",
    "\n",
    "    \n",
    "make_plots(n_list, t_list_1, opt = 1)"
   ]
  },
  {
   "cell_type": "markdown",
   "id": "fe61fea1",
   "metadata": {},
   "source": [
    "# Measure runtime of heapsort_I function"
   ]
  },
  {
   "cell_type": "code",
   "execution_count": null,
   "id": "7b712659",
   "metadata": {},
   "outputs": [],
   "source": [
    "# This function generates a list of random key values\n",
    "\n",
    "def get_random_keys (n):\n",
    "    \n",
    "    r_x = np.random.randint(1, n+1, size=n)\n",
    "    \n",
    "    pts = [x for x in zip(r_x)]\n",
    "    \n",
    "    return pts"
   ]
  },
  {
   "cell_type": "code",
   "execution_count": null,
   "id": "70b15ce0",
   "metadata": {},
   "outputs": [],
   "source": [
    "# Size of list that will be turned into a heap\n",
    "n_list = np.array([2**n for n in range(4,17,2)])\n",
    "\n",
    "t_s = []\n",
    "\n",
    "for n in n_list:\n",
    "    \n",
    "    # Get random keys\n",
    "    keys = get_random_keys(n)\n",
    "    \n",
    "    # use timeit to compute execution time of heapsort_I function\n",
    "    time_s = %timeit -o -r 3 heapsort_I(keys)\n",
    "    \n",
    "    # Append measured time of execution to t_s\n",
    "    t_s.append(time_s.best)\n",
    "\n",
    "# Make plots\n",
    "make_plots(n_list, t_s)"
   ]
  },
  {
   "cell_type": "code",
   "execution_count": null,
   "id": "06b73848",
   "metadata": {},
   "outputs": [],
   "source": []
  }
 ],
 "metadata": {
  "kernelspec": {
   "display_name": "Python 3 (ipykernel)",
   "language": "python",
   "name": "python3"
  },
  "language_info": {
   "codemirror_mode": {
    "name": "ipython",
    "version": 3
   },
   "file_extension": ".py",
   "mimetype": "text/x-python",
   "name": "python",
   "nbconvert_exporter": "python",
   "pygments_lexer": "ipython3",
   "version": "3.12.4"
  }
 },
 "nbformat": 4,
 "nbformat_minor": 5
}
